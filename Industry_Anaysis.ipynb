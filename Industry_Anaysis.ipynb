{
 "cells": [
  {
   "cell_type": "code",
   "execution_count": 13,
   "metadata": {},
   "outputs": [],
   "source": [
    "import pandas as pd\n",
    "from sqlalchemy import create_engine"
   ]
  },
  {
   "cell_type": "code",
   "execution_count": 14,
   "metadata": {},
   "outputs": [
    {
     "output_type": "execute_result",
     "data": {
      "text/plain": [
       "  Annual industry employment movements, 2016-17 to 2018-19      Unnamed: 1  \\\n",
       "0                                                NaN        2016-17 ('000)   \n",
       "1                  Agriculture, forestry and fishing                    -9   \n",
       "2                                             Mining                    -7   \n",
       "3                                      Manufacturing                    -7   \n",
       "4         Electricity, gas, water and waste services                     1   \n",
       "\n",
       "       Unnamed: 2      Unnamed: 3  \n",
       "0  2017-18 ('000)  2018-19 ('000)  \n",
       "1             -14              -8  \n",
       "2              12              10  \n",
       "3              10              14  \n",
       "4               3               5  "
      ],
      "text/html": "<div>\n<style scoped>\n    .dataframe tbody tr th:only-of-type {\n        vertical-align: middle;\n    }\n\n    .dataframe tbody tr th {\n        vertical-align: top;\n    }\n\n    .dataframe thead th {\n        text-align: right;\n    }\n</style>\n<table border=\"1\" class=\"dataframe\">\n  <thead>\n    <tr style=\"text-align: right;\">\n      <th></th>\n      <th>Annual industry employment movements, 2016-17 to 2018-19</th>\n      <th>Unnamed: 1</th>\n      <th>Unnamed: 2</th>\n      <th>Unnamed: 3</th>\n    </tr>\n  </thead>\n  <tbody>\n    <tr>\n      <th>0</th>\n      <td>NaN</td>\n      <td>2016-17 ('000)</td>\n      <td>2017-18 ('000)</td>\n      <td>2018-19 ('000)</td>\n    </tr>\n    <tr>\n      <th>1</th>\n      <td>Agriculture, forestry and fishing</td>\n      <td>-9</td>\n      <td>-14</td>\n      <td>-8</td>\n    </tr>\n    <tr>\n      <th>2</th>\n      <td>Mining</td>\n      <td>-7</td>\n      <td>12</td>\n      <td>10</td>\n    </tr>\n    <tr>\n      <th>3</th>\n      <td>Manufacturing</td>\n      <td>-7</td>\n      <td>10</td>\n      <td>14</td>\n    </tr>\n    <tr>\n      <th>4</th>\n      <td>Electricity, gas, water and waste services</td>\n      <td>1</td>\n      <td>3</td>\n      <td>5</td>\n    </tr>\n  </tbody>\n</table>\n</div>"
     },
     "metadata": {},
     "execution_count": 14
    }
   ],
   "source": [
    "#Store INDUSTRY CSV into DataFrame\n",
    "csv_file = \"Resources/industry_employment.csv\"\n",
    "industry_data_df = pd.read_csv(csv_file)\n",
    "industry_data_df.head()"
   ]
  },
  {
   "cell_type": "code",
   "execution_count": 15,
   "metadata": {},
   "outputs": [
    {
     "output_type": "execute_result",
     "data": {
      "text/plain": [
       "                                     Industry 2017 2018 2019\n",
       "1           Agriculture, forestry and fishing   -9  -14   -8\n",
       "2                                      Mining   -7   12   10\n",
       "3                               Manufacturing   -7   10   14\n",
       "4  Electricity, gas, water and waste services    1    3    5\n",
       "5                                Construction   14   47    4"
      ],
      "text/html": "<div>\n<style scoped>\n    .dataframe tbody tr th:only-of-type {\n        vertical-align: middle;\n    }\n\n    .dataframe tbody tr th {\n        vertical-align: top;\n    }\n\n    .dataframe thead th {\n        text-align: right;\n    }\n</style>\n<table border=\"1\" class=\"dataframe\">\n  <thead>\n    <tr style=\"text-align: right;\">\n      <th></th>\n      <th>Industry</th>\n      <th>2017</th>\n      <th>2018</th>\n      <th>2019</th>\n    </tr>\n  </thead>\n  <tbody>\n    <tr>\n      <th>1</th>\n      <td>Agriculture, forestry and fishing</td>\n      <td>-9</td>\n      <td>-14</td>\n      <td>-8</td>\n    </tr>\n    <tr>\n      <th>2</th>\n      <td>Mining</td>\n      <td>-7</td>\n      <td>12</td>\n      <td>10</td>\n    </tr>\n    <tr>\n      <th>3</th>\n      <td>Manufacturing</td>\n      <td>-7</td>\n      <td>10</td>\n      <td>14</td>\n    </tr>\n    <tr>\n      <th>4</th>\n      <td>Electricity, gas, water and waste services</td>\n      <td>1</td>\n      <td>3</td>\n      <td>5</td>\n    </tr>\n    <tr>\n      <th>5</th>\n      <td>Construction</td>\n      <td>14</td>\n      <td>47</td>\n      <td>4</td>\n    </tr>\n  </tbody>\n</table>\n</div>"
     },
     "metadata": {},
     "execution_count": 15
    }
   ],
   "source": [
    "##  Rename the column headers\n",
    "industry_data_df = industry_data_df.rename(columns={\"Annual industry employment movements, 2016-17 to 2018-19\": \"Industry\",\n",
    "                                                          \"Unnamed: 1\": \"2017\",\n",
    "                                                          \"Unnamed: 2\": \"2018\",\n",
    "                                                          \"Unnamed: 3\": \"2019\"})\n",
    "\n",
    "## Clean the data\n",
    "industry_data_df=industry_data_df.dropna(how='any')\n",
    "industry_data_df.head()\n",
    "\n"
   ]
  },
  {
   "cell_type": "code",
   "execution_count": 16,
   "metadata": {},
   "outputs": [
    {
     "output_type": "execute_result",
     "data": {
      "text/plain": [
       "                                           2017 2018 2019\n",
       "Industry                                                 \n",
       "Agriculture, forestry and fishing            -9  -14   -8\n",
       "Mining                                       -7   12   10\n",
       "Manufacturing                                -7   10   14\n",
       "Electricity, gas, water and waste services    1    3    5\n",
       "Construction                                 14   47    4"
      ],
      "text/html": "<div>\n<style scoped>\n    .dataframe tbody tr th:only-of-type {\n        vertical-align: middle;\n    }\n\n    .dataframe tbody tr th {\n        vertical-align: top;\n    }\n\n    .dataframe thead th {\n        text-align: right;\n    }\n</style>\n<table border=\"1\" class=\"dataframe\">\n  <thead>\n    <tr style=\"text-align: right;\">\n      <th></th>\n      <th>2017</th>\n      <th>2018</th>\n      <th>2019</th>\n    </tr>\n    <tr>\n      <th>Industry</th>\n      <th></th>\n      <th></th>\n      <th></th>\n    </tr>\n  </thead>\n  <tbody>\n    <tr>\n      <th>Agriculture, forestry and fishing</th>\n      <td>-9</td>\n      <td>-14</td>\n      <td>-8</td>\n    </tr>\n    <tr>\n      <th>Mining</th>\n      <td>-7</td>\n      <td>12</td>\n      <td>10</td>\n    </tr>\n    <tr>\n      <th>Manufacturing</th>\n      <td>-7</td>\n      <td>10</td>\n      <td>14</td>\n    </tr>\n    <tr>\n      <th>Electricity, gas, water and waste services</th>\n      <td>1</td>\n      <td>3</td>\n      <td>5</td>\n    </tr>\n    <tr>\n      <th>Construction</th>\n      <td>14</td>\n      <td>47</td>\n      <td>4</td>\n    </tr>\n  </tbody>\n</table>\n</div>"
     },
     "metadata": {},
     "execution_count": 16
    }
   ],
   "source": [
    "# dropping duplicates and setting the index\n",
    "#industry_data_df.drop_duplicates(\"Industry\", inplace=True)\n",
    "industry_data_df.set_index(\"Industry\", inplace=True)\n",
    "\n",
    "industry_data_df.head()"
   ]
  },
  {
   "cell_type": "code",
   "execution_count": null,
   "metadata": {},
   "outputs": [],
   "source": []
  },
  {
   "cell_type": "code",
   "execution_count": null,
   "metadata": {},
   "outputs": [],
   "source": []
  },
  {
   "cell_type": "code",
   "execution_count": 17,
   "metadata": {},
   "outputs": [
    {
     "output_type": "execute_result",
     "data": {
      "text/plain": [
       "  Annual industry EBITDA movements, 2016-17 to 2018-19    Unnamed: 1  \\\n",
       "0                                                NaN    2016-17 ($m)   \n",
       "1                  Agriculture, forestry and fishing           3,694   \n",
       "2                                             Mining          23,313   \n",
       "3                                      Manufacturing          -1,064   \n",
       "4         Electricity, gas, water and waste services           3,254   \n",
       "\n",
       "     Unnamed: 2    Unnamed: 3  \n",
       "0  2017-18 ($m)  2018-19 ($m)  \n",
       "1        -2,258          -998  \n",
       "2        21,399        33,746  \n",
       "3         4,201         3,346  \n",
       "4           481           670  "
      ],
      "text/html": "<div>\n<style scoped>\n    .dataframe tbody tr th:only-of-type {\n        vertical-align: middle;\n    }\n\n    .dataframe tbody tr th {\n        vertical-align: top;\n    }\n\n    .dataframe thead th {\n        text-align: right;\n    }\n</style>\n<table border=\"1\" class=\"dataframe\">\n  <thead>\n    <tr style=\"text-align: right;\">\n      <th></th>\n      <th>Annual industry EBITDA movements, 2016-17 to 2018-19</th>\n      <th>Unnamed: 1</th>\n      <th>Unnamed: 2</th>\n      <th>Unnamed: 3</th>\n    </tr>\n  </thead>\n  <tbody>\n    <tr>\n      <th>0</th>\n      <td>NaN</td>\n      <td>2016-17 ($m)</td>\n      <td>2017-18 ($m)</td>\n      <td>2018-19 ($m)</td>\n    </tr>\n    <tr>\n      <th>1</th>\n      <td>Agriculture, forestry and fishing</td>\n      <td>3,694</td>\n      <td>-2,258</td>\n      <td>-998</td>\n    </tr>\n    <tr>\n      <th>2</th>\n      <td>Mining</td>\n      <td>23,313</td>\n      <td>21,399</td>\n      <td>33,746</td>\n    </tr>\n    <tr>\n      <th>3</th>\n      <td>Manufacturing</td>\n      <td>-1,064</td>\n      <td>4,201</td>\n      <td>3,346</td>\n    </tr>\n    <tr>\n      <th>4</th>\n      <td>Electricity, gas, water and waste services</td>\n      <td>3,254</td>\n      <td>481</td>\n      <td>670</td>\n    </tr>\n  </tbody>\n</table>\n</div>"
     },
     "metadata": {},
     "execution_count": 17
    }
   ],
   "source": [
    "#Store EMPLOYMENT CSV into DataFrame\n",
    "csv_file = \"Resources/Industry_EBITDA.csv\"\n",
    "earnings_data_df = pd.read_csv(csv_file)\n",
    "earnings_data_df.head()"
   ]
  },
  {
   "cell_type": "code",
   "execution_count": 18,
   "metadata": {},
   "outputs": [
    {
     "output_type": "execute_result",
     "data": {
      "text/plain": [
       "                                              2017    2018    2019\n",
       "Industry                                                          \n",
       "Agriculture, forestry and fishing            3,694  -2,258    -998\n",
       "Mining                                      23,313  21,399  33,746\n",
       "Manufacturing                               -1,064   4,201   3,346\n",
       "Electricity, gas, water and waste services   3,254     481     670\n",
       "Construction                                   435   3,404   2,504"
      ],
      "text/html": "<div>\n<style scoped>\n    .dataframe tbody tr th:only-of-type {\n        vertical-align: middle;\n    }\n\n    .dataframe tbody tr th {\n        vertical-align: top;\n    }\n\n    .dataframe thead th {\n        text-align: right;\n    }\n</style>\n<table border=\"1\" class=\"dataframe\">\n  <thead>\n    <tr style=\"text-align: right;\">\n      <th></th>\n      <th>2017</th>\n      <th>2018</th>\n      <th>2019</th>\n    </tr>\n    <tr>\n      <th>Industry</th>\n      <th></th>\n      <th></th>\n      <th></th>\n    </tr>\n  </thead>\n  <tbody>\n    <tr>\n      <th>Agriculture, forestry and fishing</th>\n      <td>3,694</td>\n      <td>-2,258</td>\n      <td>-998</td>\n    </tr>\n    <tr>\n      <th>Mining</th>\n      <td>23,313</td>\n      <td>21,399</td>\n      <td>33,746</td>\n    </tr>\n    <tr>\n      <th>Manufacturing</th>\n      <td>-1,064</td>\n      <td>4,201</td>\n      <td>3,346</td>\n    </tr>\n    <tr>\n      <th>Electricity, gas, water and waste services</th>\n      <td>3,254</td>\n      <td>481</td>\n      <td>670</td>\n    </tr>\n    <tr>\n      <th>Construction</th>\n      <td>435</td>\n      <td>3,404</td>\n      <td>2,504</td>\n    </tr>\n  </tbody>\n</table>\n</div>"
     },
     "metadata": {},
     "execution_count": 18
    }
   ],
   "source": [
    "##  Rename the column headers\n",
    "earnings_data_df = earnings_data_df.rename(columns={\"Annual industry EBITDA movements, 2016-17 to 2018-19\": \"Industry\",\n",
    "                                                         \"Unnamed: 1\": \"2017\",\n",
    "                                                          \"Unnamed: 2\": \"2018\",\n",
    "                                                          \"Unnamed: 3\": \"2019\"})\n",
    "\n",
    "## Clean the data\n",
    "earnings_data_df= earnings_data_df.dropna(how='any')\n",
    "earnings_data_df.set_index(\"Industry\", inplace=True)\n",
    "earnings_data_df.head()\n"
   ]
  },
  {
   "cell_type": "code",
   "execution_count": 28,
   "metadata": {},
   "outputs": [],
   "source": [
    "#  create database connection\n",
    "connection_string = \"postgres:postgres@localhost:5432/CourseOption_db\"\n",
    "engine = create_engine(f'postgresql://{connection_string}')"
   ]
  },
  {
   "cell_type": "code",
   "execution_count": 29,
   "metadata": {},
   "outputs": [
    {
     "output_type": "execute_result",
     "data": {
      "text/plain": [
       "['industry', 'earning']"
      ]
     },
     "metadata": {},
     "execution_count": 29
    }
   ],
   "source": [
    "# Confirm tables\n",
    "engine.table_names()"
   ]
  },
  {
   "cell_type": "code",
   "execution_count": null,
   "metadata": {},
   "outputs": [],
   "source": []
  }
 ],
 "metadata": {
  "kernelspec": {
   "display_name": "Python 3",
   "language": "python",
   "name": "python3"
  },
  "language_info": {
   "codemirror_mode": {
    "name": "ipython",
    "version": 3
   },
   "file_extension": ".py",
   "mimetype": "text/x-python",
   "name": "python",
   "nbconvert_exporter": "python",
   "pygments_lexer": "ipython3",
   "version": "3.8.5-final"
  }
 },
 "nbformat": 4,
 "nbformat_minor": 4
}